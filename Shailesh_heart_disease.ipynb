{
  "nbformat": 4,
  "nbformat_minor": 0,
  "metadata": {
    "colab": {
      "provenance": []
    },
    "kernelspec": {
      "name": "python3",
      "display_name": "Python 3"
    },
    "language_info": {
      "name": "python"
    }
  },
  "cells": [
    {
      "cell_type": "markdown",
      "source": [
        "\n",
        "\n",
        "```\n",
        "#importing the dataset\n",
        "\n",
        "```\n",
        "\n"
      ],
      "metadata": {
        "id": "XpvHy7wDmjNg"
      }
    },
    {
      "cell_type": "code",
      "execution_count": 1,
      "metadata": {
        "id": "UsIQTkhGl6hO"
      },
      "outputs": [],
      "source": [
        "import numpy as np\n",
        "import pandas as pd\n",
        "import seaborn as sns\n",
        "import matplotlib.pyplot as plt\n",
        "import warnings\n",
        "warnings.filterwarnings(\"ignore\")"
      ]
    },
    {
      "cell_type": "code",
      "source": [
        "data = pd.read_csv(\"/content/heart_disease_uci.csv\")"
      ],
      "metadata": {
        "id": "nmj8GgInnFnP"
      },
      "execution_count": 2,
      "outputs": []
    },
    {
      "cell_type": "code",
      "source": [
        "data.head()"
      ],
      "metadata": {
        "colab": {
          "base_uri": "https://localhost:8080/",
          "height": 206
        },
        "id": "LXErf82HnS-e",
        "outputId": "7b7adadf-26b7-46fc-906a-c94f4c403c8a"
      },
      "execution_count": 3,
      "outputs": [
        {
          "output_type": "execute_result",
          "data": {
            "text/plain": [
              "   id  age     sex    dataset               cp  trestbps   chol    fbs  \\\n",
              "0   1   63    Male  Cleveland   typical angina     145.0  233.0   True   \n",
              "1   2   67    Male  Cleveland     asymptomatic     160.0  286.0  False   \n",
              "2   3   67    Male  Cleveland     asymptomatic     120.0  229.0  False   \n",
              "3   4   37    Male  Cleveland      non-anginal     130.0  250.0  False   \n",
              "4   5   41  Female  Cleveland  atypical angina     130.0  204.0  False   \n",
              "\n",
              "          restecg  thalch  exang  oldpeak        slope   ca  \\\n",
              "0  lv hypertrophy   150.0  False      2.3  downsloping  0.0   \n",
              "1  lv hypertrophy   108.0   True      1.5         flat  3.0   \n",
              "2  lv hypertrophy   129.0   True      2.6         flat  2.0   \n",
              "3          normal   187.0  False      3.5  downsloping  0.0   \n",
              "4  lv hypertrophy   172.0  False      1.4    upsloping  0.0   \n",
              "\n",
              "                thal  num  \n",
              "0       fixed defect    0  \n",
              "1             normal    2  \n",
              "2  reversable defect    1  \n",
              "3             normal    0  \n",
              "4             normal    0  "
            ],
            "text/html": [
              "\n",
              "  <div id=\"df-189705ff-ff61-4618-b311-6a70f24b6205\">\n",
              "    <div class=\"colab-df-container\">\n",
              "      <div>\n",
              "<style scoped>\n",
              "    .dataframe tbody tr th:only-of-type {\n",
              "        vertical-align: middle;\n",
              "    }\n",
              "\n",
              "    .dataframe tbody tr th {\n",
              "        vertical-align: top;\n",
              "    }\n",
              "\n",
              "    .dataframe thead th {\n",
              "        text-align: right;\n",
              "    }\n",
              "</style>\n",
              "<table border=\"1\" class=\"dataframe\">\n",
              "  <thead>\n",
              "    <tr style=\"text-align: right;\">\n",
              "      <th></th>\n",
              "      <th>id</th>\n",
              "      <th>age</th>\n",
              "      <th>sex</th>\n",
              "      <th>dataset</th>\n",
              "      <th>cp</th>\n",
              "      <th>trestbps</th>\n",
              "      <th>chol</th>\n",
              "      <th>fbs</th>\n",
              "      <th>restecg</th>\n",
              "      <th>thalch</th>\n",
              "      <th>exang</th>\n",
              "      <th>oldpeak</th>\n",
              "      <th>slope</th>\n",
              "      <th>ca</th>\n",
              "      <th>thal</th>\n",
              "      <th>num</th>\n",
              "    </tr>\n",
              "  </thead>\n",
              "  <tbody>\n",
              "    <tr>\n",
              "      <th>0</th>\n",
              "      <td>1</td>\n",
              "      <td>63</td>\n",
              "      <td>Male</td>\n",
              "      <td>Cleveland</td>\n",
              "      <td>typical angina</td>\n",
              "      <td>145.0</td>\n",
              "      <td>233.0</td>\n",
              "      <td>True</td>\n",
              "      <td>lv hypertrophy</td>\n",
              "      <td>150.0</td>\n",
              "      <td>False</td>\n",
              "      <td>2.3</td>\n",
              "      <td>downsloping</td>\n",
              "      <td>0.0</td>\n",
              "      <td>fixed defect</td>\n",
              "      <td>0</td>\n",
              "    </tr>\n",
              "    <tr>\n",
              "      <th>1</th>\n",
              "      <td>2</td>\n",
              "      <td>67</td>\n",
              "      <td>Male</td>\n",
              "      <td>Cleveland</td>\n",
              "      <td>asymptomatic</td>\n",
              "      <td>160.0</td>\n",
              "      <td>286.0</td>\n",
              "      <td>False</td>\n",
              "      <td>lv hypertrophy</td>\n",
              "      <td>108.0</td>\n",
              "      <td>True</td>\n",
              "      <td>1.5</td>\n",
              "      <td>flat</td>\n",
              "      <td>3.0</td>\n",
              "      <td>normal</td>\n",
              "      <td>2</td>\n",
              "    </tr>\n",
              "    <tr>\n",
              "      <th>2</th>\n",
              "      <td>3</td>\n",
              "      <td>67</td>\n",
              "      <td>Male</td>\n",
              "      <td>Cleveland</td>\n",
              "      <td>asymptomatic</td>\n",
              "      <td>120.0</td>\n",
              "      <td>229.0</td>\n",
              "      <td>False</td>\n",
              "      <td>lv hypertrophy</td>\n",
              "      <td>129.0</td>\n",
              "      <td>True</td>\n",
              "      <td>2.6</td>\n",
              "      <td>flat</td>\n",
              "      <td>2.0</td>\n",
              "      <td>reversable defect</td>\n",
              "      <td>1</td>\n",
              "    </tr>\n",
              "    <tr>\n",
              "      <th>3</th>\n",
              "      <td>4</td>\n",
              "      <td>37</td>\n",
              "      <td>Male</td>\n",
              "      <td>Cleveland</td>\n",
              "      <td>non-anginal</td>\n",
              "      <td>130.0</td>\n",
              "      <td>250.0</td>\n",
              "      <td>False</td>\n",
              "      <td>normal</td>\n",
              "      <td>187.0</td>\n",
              "      <td>False</td>\n",
              "      <td>3.5</td>\n",
              "      <td>downsloping</td>\n",
              "      <td>0.0</td>\n",
              "      <td>normal</td>\n",
              "      <td>0</td>\n",
              "    </tr>\n",
              "    <tr>\n",
              "      <th>4</th>\n",
              "      <td>5</td>\n",
              "      <td>41</td>\n",
              "      <td>Female</td>\n",
              "      <td>Cleveland</td>\n",
              "      <td>atypical angina</td>\n",
              "      <td>130.0</td>\n",
              "      <td>204.0</td>\n",
              "      <td>False</td>\n",
              "      <td>lv hypertrophy</td>\n",
              "      <td>172.0</td>\n",
              "      <td>False</td>\n",
              "      <td>1.4</td>\n",
              "      <td>upsloping</td>\n",
              "      <td>0.0</td>\n",
              "      <td>normal</td>\n",
              "      <td>0</td>\n",
              "    </tr>\n",
              "  </tbody>\n",
              "</table>\n",
              "</div>\n",
              "      <button class=\"colab-df-convert\" onclick=\"convertToInteractive('df-189705ff-ff61-4618-b311-6a70f24b6205')\"\n",
              "              title=\"Convert this dataframe to an interactive table.\"\n",
              "              style=\"display:none;\">\n",
              "        \n",
              "  <svg xmlns=\"http://www.w3.org/2000/svg\" height=\"24px\"viewBox=\"0 0 24 24\"\n",
              "       width=\"24px\">\n",
              "    <path d=\"M0 0h24v24H0V0z\" fill=\"none\"/>\n",
              "    <path d=\"M18.56 5.44l.94 2.06.94-2.06 2.06-.94-2.06-.94-.94-2.06-.94 2.06-2.06.94zm-11 1L8.5 8.5l.94-2.06 2.06-.94-2.06-.94L8.5 2.5l-.94 2.06-2.06.94zm10 10l.94 2.06.94-2.06 2.06-.94-2.06-.94-.94-2.06-.94 2.06-2.06.94z\"/><path d=\"M17.41 7.96l-1.37-1.37c-.4-.4-.92-.59-1.43-.59-.52 0-1.04.2-1.43.59L10.3 9.45l-7.72 7.72c-.78.78-.78 2.05 0 2.83L4 21.41c.39.39.9.59 1.41.59.51 0 1.02-.2 1.41-.59l7.78-7.78 2.81-2.81c.8-.78.8-2.07 0-2.86zM5.41 20L4 18.59l7.72-7.72 1.47 1.35L5.41 20z\"/>\n",
              "  </svg>\n",
              "      </button>\n",
              "      \n",
              "  <style>\n",
              "    .colab-df-container {\n",
              "      display:flex;\n",
              "      flex-wrap:wrap;\n",
              "      gap: 12px;\n",
              "    }\n",
              "\n",
              "    .colab-df-convert {\n",
              "      background-color: #E8F0FE;\n",
              "      border: none;\n",
              "      border-radius: 50%;\n",
              "      cursor: pointer;\n",
              "      display: none;\n",
              "      fill: #1967D2;\n",
              "      height: 32px;\n",
              "      padding: 0 0 0 0;\n",
              "      width: 32px;\n",
              "    }\n",
              "\n",
              "    .colab-df-convert:hover {\n",
              "      background-color: #E2EBFA;\n",
              "      box-shadow: 0px 1px 2px rgba(60, 64, 67, 0.3), 0px 1px 3px 1px rgba(60, 64, 67, 0.15);\n",
              "      fill: #174EA6;\n",
              "    }\n",
              "\n",
              "    [theme=dark] .colab-df-convert {\n",
              "      background-color: #3B4455;\n",
              "      fill: #D2E3FC;\n",
              "    }\n",
              "\n",
              "    [theme=dark] .colab-df-convert:hover {\n",
              "      background-color: #434B5C;\n",
              "      box-shadow: 0px 1px 3px 1px rgba(0, 0, 0, 0.15);\n",
              "      filter: drop-shadow(0px 1px 2px rgba(0, 0, 0, 0.3));\n",
              "      fill: #FFFFFF;\n",
              "    }\n",
              "  </style>\n",
              "\n",
              "      <script>\n",
              "        const buttonEl =\n",
              "          document.querySelector('#df-189705ff-ff61-4618-b311-6a70f24b6205 button.colab-df-convert');\n",
              "        buttonEl.style.display =\n",
              "          google.colab.kernel.accessAllowed ? 'block' : 'none';\n",
              "\n",
              "        async function convertToInteractive(key) {\n",
              "          const element = document.querySelector('#df-189705ff-ff61-4618-b311-6a70f24b6205');\n",
              "          const dataTable =\n",
              "            await google.colab.kernel.invokeFunction('convertToInteractive',\n",
              "                                                     [key], {});\n",
              "          if (!dataTable) return;\n",
              "\n",
              "          const docLinkHtml = 'Like what you see? Visit the ' +\n",
              "            '<a target=\"_blank\" href=https://colab.research.google.com/notebooks/data_table.ipynb>data table notebook</a>'\n",
              "            + ' to learn more about interactive tables.';\n",
              "          element.innerHTML = '';\n",
              "          dataTable['output_type'] = 'display_data';\n",
              "          await google.colab.output.renderOutput(dataTable, element);\n",
              "          const docLink = document.createElement('div');\n",
              "          docLink.innerHTML = docLinkHtml;\n",
              "          element.appendChild(docLink);\n",
              "        }\n",
              "      </script>\n",
              "    </div>\n",
              "  </div>\n",
              "  "
            ]
          },
          "metadata": {},
          "execution_count": 3
        }
      ]
    },
    {
      "cell_type": "code",
      "source": [
        "data.info()"
      ],
      "metadata": {
        "colab": {
          "base_uri": "https://localhost:8080/"
        },
        "id": "ZBVha-0TnUsy",
        "outputId": "5ff8f330-7a28-4367-939f-eeadde4c1d0c"
      },
      "execution_count": 4,
      "outputs": [
        {
          "output_type": "stream",
          "name": "stdout",
          "text": [
            "<class 'pandas.core.frame.DataFrame'>\n",
            "RangeIndex: 920 entries, 0 to 919\n",
            "Data columns (total 16 columns):\n",
            " #   Column    Non-Null Count  Dtype  \n",
            "---  ------    --------------  -----  \n",
            " 0   id        920 non-null    int64  \n",
            " 1   age       920 non-null    int64  \n",
            " 2   sex       920 non-null    object \n",
            " 3   dataset   920 non-null    object \n",
            " 4   cp        920 non-null    object \n",
            " 5   trestbps  861 non-null    float64\n",
            " 6   chol      890 non-null    float64\n",
            " 7   fbs       830 non-null    object \n",
            " 8   restecg   918 non-null    object \n",
            " 9   thalch    865 non-null    float64\n",
            " 10  exang     865 non-null    object \n",
            " 11  oldpeak   858 non-null    float64\n",
            " 12  slope     611 non-null    object \n",
            " 13  ca        309 non-null    float64\n",
            " 14  thal      434 non-null    object \n",
            " 15  num       920 non-null    int64  \n",
            "dtypes: float64(5), int64(3), object(8)\n",
            "memory usage: 115.1+ KB\n"
          ]
        }
      ]
    },
    {
      "cell_type": "code",
      "source": [
        "data.nunique()"
      ],
      "metadata": {
        "colab": {
          "base_uri": "https://localhost:8080/"
        },
        "id": "oWoHejMMnZ-L",
        "outputId": "9de5e862-4dbd-44da-ceba-a05bc7cc7bcb"
      },
      "execution_count": 5,
      "outputs": [
        {
          "output_type": "execute_result",
          "data": {
            "text/plain": [
              "id          920\n",
              "age          50\n",
              "sex           2\n",
              "dataset       4\n",
              "cp            4\n",
              "trestbps     61\n",
              "chol        217\n",
              "fbs           2\n",
              "restecg       3\n",
              "thalch      119\n",
              "exang         2\n",
              "oldpeak      53\n",
              "slope         3\n",
              "ca            4\n",
              "thal          3\n",
              "num           5\n",
              "dtype: int64"
            ]
          },
          "metadata": {},
          "execution_count": 5
        }
      ]
    },
    {
      "cell_type": "code",
      "source": [
        "data.shape"
      ],
      "metadata": {
        "colab": {
          "base_uri": "https://localhost:8080/"
        },
        "id": "sGmxmRbCoIYT",
        "outputId": "ab6dd340-13fc-496f-93a6-d64e92b18d1c"
      },
      "execution_count": 6,
      "outputs": [
        {
          "output_type": "execute_result",
          "data": {
            "text/plain": [
              "(920, 16)"
            ]
          },
          "metadata": {},
          "execution_count": 6
        }
      ]
    },
    {
      "cell_type": "markdown",
      "source": [
        "# b. Get information about dataset (mean, max, min, quartiles etc.)"
      ],
      "metadata": {
        "id": "Q4yVQHnMn8PJ"
      }
    },
    {
      "cell_type": "code",
      "source": [
        "data.isnull().sum()"
      ],
      "metadata": {
        "colab": {
          "base_uri": "https://localhost:8080/"
        },
        "id": "n57Wk1NGndOI",
        "outputId": "c6e2cb00-6356-44df-a737-551d95df10b1"
      },
      "execution_count": 7,
      "outputs": [
        {
          "output_type": "execute_result",
          "data": {
            "text/plain": [
              "id            0\n",
              "age           0\n",
              "sex           0\n",
              "dataset       0\n",
              "cp            0\n",
              "trestbps     59\n",
              "chol         30\n",
              "fbs          90\n",
              "restecg       2\n",
              "thalch       55\n",
              "exang        55\n",
              "oldpeak      62\n",
              "slope       309\n",
              "ca          611\n",
              "thal        486\n",
              "num           0\n",
              "dtype: int64"
            ]
          },
          "metadata": {},
          "execution_count": 7
        }
      ]
    },
    {
      "cell_type": "code",
      "source": [
        "list_num = []\n",
        "list_obj = []\n",
        "for i in data.columns:\n",
        "  if(data[i].dtype == object):\n",
        "    list_obj.append(i)\n",
        "    \n",
        "  \n",
        "  else:\n",
        "    list_num.append(i)\n"
      ],
      "metadata": {
        "id": "QJhhAG2BoCjH"
      },
      "execution_count": 8,
      "outputs": []
    },
    {
      "cell_type": "code",
      "source": [
        "#fill the null values\n",
        "for i in data.columns:\n",
        "  if(data[i].dtype == 'object'):\n",
        "\n",
        "    data[i] = data[i].fillna(data[i].mode()[0])\n",
        "    \n",
        "    \n",
        "\n",
        "  else:\n",
        "      data[i] = data[i].fillna(data[i].median()) \n"
      ],
      "metadata": {
        "id": "7XQvjIGTqbfY"
      },
      "execution_count": 9,
      "outputs": []
    },
    {
      "cell_type": "code",
      "source": [
        "data.duplicated().sum()"
      ],
      "metadata": {
        "colab": {
          "base_uri": "https://localhost:8080/"
        },
        "id": "f_G2h6y2p9VK",
        "outputId": "a9960840-3899-47d0-ea21-2403772c36d7"
      },
      "execution_count": 10,
      "outputs": [
        {
          "output_type": "execute_result",
          "data": {
            "text/plain": [
              "0"
            ]
          },
          "metadata": {},
          "execution_count": 10
        }
      ]
    },
    {
      "cell_type": "code",
      "source": [
        "data2 = data"
      ],
      "metadata": {
        "id": "Vl5Ot7ghDX0Q"
      },
      "execution_count": 11,
      "outputs": []
    },
    {
      "cell_type": "code",
      "source": [
        "dict1 = {0:0,1:1,2:1,3:1,4:1}\n",
        "\n",
        "data2['num']= data2['num'].map(dict1)"
      ],
      "metadata": {
        "id": "euwvoEGa_hFm"
      },
      "execution_count": 12,
      "outputs": []
    },
    {
      "cell_type": "markdown",
      "source": [
        "#lets apply one hot encoding"
      ],
      "metadata": {
        "id": "_FSCI3xKrzOc"
      }
    },
    {
      "cell_type": "code",
      "source": [
        "#data_dummy= pd.get_dummies(data,drop_first=True)\n",
        "from sklearn.preprocessing import LabelEncoder\n",
        "lb = LabelEncoder()\n",
        "\n",
        "data2[list_obj] = data2[list_obj].apply(lb.fit_transform)\n"
      ],
      "metadata": {
        "id": "bKaJQ9Vmru0x"
      },
      "execution_count": 13,
      "outputs": []
    },
    {
      "cell_type": "code",
      "source": [
        "data2.head()"
      ],
      "metadata": {
        "colab": {
          "base_uri": "https://localhost:8080/",
          "height": 206
        },
        "id": "7UzgexvTsrXV",
        "outputId": "51eca618-1e6f-44b3-9fe9-484af538823b"
      },
      "execution_count": 14,
      "outputs": [
        {
          "output_type": "execute_result",
          "data": {
            "text/plain": [
              "   id  age  sex  dataset  cp  trestbps   chol  fbs  restecg  thalch  exang  \\\n",
              "0   1   63    1        0   3     145.0  233.0    1        0   150.0      0   \n",
              "1   2   67    1        0   0     160.0  286.0    0        0   108.0      1   \n",
              "2   3   67    1        0   0     120.0  229.0    0        0   129.0      1   \n",
              "3   4   37    1        0   2     130.0  250.0    0        1   187.0      0   \n",
              "4   5   41    0        0   1     130.0  204.0    0        0   172.0      0   \n",
              "\n",
              "   oldpeak  slope   ca  thal  num  \n",
              "0      2.3      0  0.0     0    0  \n",
              "1      1.5      1  3.0     1    1  \n",
              "2      2.6      1  2.0     2    1  \n",
              "3      3.5      0  0.0     1    0  \n",
              "4      1.4      2  0.0     1    0  "
            ],
            "text/html": [
              "\n",
              "  <div id=\"df-7c3af74d-f6cc-4107-87a9-b1713ec279cf\">\n",
              "    <div class=\"colab-df-container\">\n",
              "      <div>\n",
              "<style scoped>\n",
              "    .dataframe tbody tr th:only-of-type {\n",
              "        vertical-align: middle;\n",
              "    }\n",
              "\n",
              "    .dataframe tbody tr th {\n",
              "        vertical-align: top;\n",
              "    }\n",
              "\n",
              "    .dataframe thead th {\n",
              "        text-align: right;\n",
              "    }\n",
              "</style>\n",
              "<table border=\"1\" class=\"dataframe\">\n",
              "  <thead>\n",
              "    <tr style=\"text-align: right;\">\n",
              "      <th></th>\n",
              "      <th>id</th>\n",
              "      <th>age</th>\n",
              "      <th>sex</th>\n",
              "      <th>dataset</th>\n",
              "      <th>cp</th>\n",
              "      <th>trestbps</th>\n",
              "      <th>chol</th>\n",
              "      <th>fbs</th>\n",
              "      <th>restecg</th>\n",
              "      <th>thalch</th>\n",
              "      <th>exang</th>\n",
              "      <th>oldpeak</th>\n",
              "      <th>slope</th>\n",
              "      <th>ca</th>\n",
              "      <th>thal</th>\n",
              "      <th>num</th>\n",
              "    </tr>\n",
              "  </thead>\n",
              "  <tbody>\n",
              "    <tr>\n",
              "      <th>0</th>\n",
              "      <td>1</td>\n",
              "      <td>63</td>\n",
              "      <td>1</td>\n",
              "      <td>0</td>\n",
              "      <td>3</td>\n",
              "      <td>145.0</td>\n",
              "      <td>233.0</td>\n",
              "      <td>1</td>\n",
              "      <td>0</td>\n",
              "      <td>150.0</td>\n",
              "      <td>0</td>\n",
              "      <td>2.3</td>\n",
              "      <td>0</td>\n",
              "      <td>0.0</td>\n",
              "      <td>0</td>\n",
              "      <td>0</td>\n",
              "    </tr>\n",
              "    <tr>\n",
              "      <th>1</th>\n",
              "      <td>2</td>\n",
              "      <td>67</td>\n",
              "      <td>1</td>\n",
              "      <td>0</td>\n",
              "      <td>0</td>\n",
              "      <td>160.0</td>\n",
              "      <td>286.0</td>\n",
              "      <td>0</td>\n",
              "      <td>0</td>\n",
              "      <td>108.0</td>\n",
              "      <td>1</td>\n",
              "      <td>1.5</td>\n",
              "      <td>1</td>\n",
              "      <td>3.0</td>\n",
              "      <td>1</td>\n",
              "      <td>1</td>\n",
              "    </tr>\n",
              "    <tr>\n",
              "      <th>2</th>\n",
              "      <td>3</td>\n",
              "      <td>67</td>\n",
              "      <td>1</td>\n",
              "      <td>0</td>\n",
              "      <td>0</td>\n",
              "      <td>120.0</td>\n",
              "      <td>229.0</td>\n",
              "      <td>0</td>\n",
              "      <td>0</td>\n",
              "      <td>129.0</td>\n",
              "      <td>1</td>\n",
              "      <td>2.6</td>\n",
              "      <td>1</td>\n",
              "      <td>2.0</td>\n",
              "      <td>2</td>\n",
              "      <td>1</td>\n",
              "    </tr>\n",
              "    <tr>\n",
              "      <th>3</th>\n",
              "      <td>4</td>\n",
              "      <td>37</td>\n",
              "      <td>1</td>\n",
              "      <td>0</td>\n",
              "      <td>2</td>\n",
              "      <td>130.0</td>\n",
              "      <td>250.0</td>\n",
              "      <td>0</td>\n",
              "      <td>1</td>\n",
              "      <td>187.0</td>\n",
              "      <td>0</td>\n",
              "      <td>3.5</td>\n",
              "      <td>0</td>\n",
              "      <td>0.0</td>\n",
              "      <td>1</td>\n",
              "      <td>0</td>\n",
              "    </tr>\n",
              "    <tr>\n",
              "      <th>4</th>\n",
              "      <td>5</td>\n",
              "      <td>41</td>\n",
              "      <td>0</td>\n",
              "      <td>0</td>\n",
              "      <td>1</td>\n",
              "      <td>130.0</td>\n",
              "      <td>204.0</td>\n",
              "      <td>0</td>\n",
              "      <td>0</td>\n",
              "      <td>172.0</td>\n",
              "      <td>0</td>\n",
              "      <td>1.4</td>\n",
              "      <td>2</td>\n",
              "      <td>0.0</td>\n",
              "      <td>1</td>\n",
              "      <td>0</td>\n",
              "    </tr>\n",
              "  </tbody>\n",
              "</table>\n",
              "</div>\n",
              "      <button class=\"colab-df-convert\" onclick=\"convertToInteractive('df-7c3af74d-f6cc-4107-87a9-b1713ec279cf')\"\n",
              "              title=\"Convert this dataframe to an interactive table.\"\n",
              "              style=\"display:none;\">\n",
              "        \n",
              "  <svg xmlns=\"http://www.w3.org/2000/svg\" height=\"24px\"viewBox=\"0 0 24 24\"\n",
              "       width=\"24px\">\n",
              "    <path d=\"M0 0h24v24H0V0z\" fill=\"none\"/>\n",
              "    <path d=\"M18.56 5.44l.94 2.06.94-2.06 2.06-.94-2.06-.94-.94-2.06-.94 2.06-2.06.94zm-11 1L8.5 8.5l.94-2.06 2.06-.94-2.06-.94L8.5 2.5l-.94 2.06-2.06.94zm10 10l.94 2.06.94-2.06 2.06-.94-2.06-.94-.94-2.06-.94 2.06-2.06.94z\"/><path d=\"M17.41 7.96l-1.37-1.37c-.4-.4-.92-.59-1.43-.59-.52 0-1.04.2-1.43.59L10.3 9.45l-7.72 7.72c-.78.78-.78 2.05 0 2.83L4 21.41c.39.39.9.59 1.41.59.51 0 1.02-.2 1.41-.59l7.78-7.78 2.81-2.81c.8-.78.8-2.07 0-2.86zM5.41 20L4 18.59l7.72-7.72 1.47 1.35L5.41 20z\"/>\n",
              "  </svg>\n",
              "      </button>\n",
              "      \n",
              "  <style>\n",
              "    .colab-df-container {\n",
              "      display:flex;\n",
              "      flex-wrap:wrap;\n",
              "      gap: 12px;\n",
              "    }\n",
              "\n",
              "    .colab-df-convert {\n",
              "      background-color: #E8F0FE;\n",
              "      border: none;\n",
              "      border-radius: 50%;\n",
              "      cursor: pointer;\n",
              "      display: none;\n",
              "      fill: #1967D2;\n",
              "      height: 32px;\n",
              "      padding: 0 0 0 0;\n",
              "      width: 32px;\n",
              "    }\n",
              "\n",
              "    .colab-df-convert:hover {\n",
              "      background-color: #E2EBFA;\n",
              "      box-shadow: 0px 1px 2px rgba(60, 64, 67, 0.3), 0px 1px 3px 1px rgba(60, 64, 67, 0.15);\n",
              "      fill: #174EA6;\n",
              "    }\n",
              "\n",
              "    [theme=dark] .colab-df-convert {\n",
              "      background-color: #3B4455;\n",
              "      fill: #D2E3FC;\n",
              "    }\n",
              "\n",
              "    [theme=dark] .colab-df-convert:hover {\n",
              "      background-color: #434B5C;\n",
              "      box-shadow: 0px 1px 3px 1px rgba(0, 0, 0, 0.15);\n",
              "      filter: drop-shadow(0px 1px 2px rgba(0, 0, 0, 0.3));\n",
              "      fill: #FFFFFF;\n",
              "    }\n",
              "  </style>\n",
              "\n",
              "      <script>\n",
              "        const buttonEl =\n",
              "          document.querySelector('#df-7c3af74d-f6cc-4107-87a9-b1713ec279cf button.colab-df-convert');\n",
              "        buttonEl.style.display =\n",
              "          google.colab.kernel.accessAllowed ? 'block' : 'none';\n",
              "\n",
              "        async function convertToInteractive(key) {\n",
              "          const element = document.querySelector('#df-7c3af74d-f6cc-4107-87a9-b1713ec279cf');\n",
              "          const dataTable =\n",
              "            await google.colab.kernel.invokeFunction('convertToInteractive',\n",
              "                                                     [key], {});\n",
              "          if (!dataTable) return;\n",
              "\n",
              "          const docLinkHtml = 'Like what you see? Visit the ' +\n",
              "            '<a target=\"_blank\" href=https://colab.research.google.com/notebooks/data_table.ipynb>data table notebook</a>'\n",
              "            + ' to learn more about interactive tables.';\n",
              "          element.innerHTML = '';\n",
              "          dataTable['output_type'] = 'display_data';\n",
              "          await google.colab.output.renderOutput(dataTable, element);\n",
              "          const docLink = document.createElement('div');\n",
              "          docLink.innerHTML = docLinkHtml;\n",
              "          element.appendChild(docLink);\n",
              "        }\n",
              "      </script>\n",
              "    </div>\n",
              "  </div>\n",
              "  "
            ]
          },
          "metadata": {},
          "execution_count": 14
        }
      ]
    },
    {
      "cell_type": "code",
      "source": [
        "#dict2 = {True:1,False:0}\n",
        "#data_dummy['fbs']= data_dummy['fbs'].map(dict2)\n",
        "#data_dummy['exang']= data_dummy['exang'].map(dict2)"
      ],
      "metadata": {
        "id": "VrsO4bXe26fB"
      },
      "execution_count": 15,
      "outputs": []
    },
    {
      "cell_type": "code",
      "source": [
        "data2.info()"
      ],
      "metadata": {
        "colab": {
          "base_uri": "https://localhost:8080/"
        },
        "id": "E9g9TBur3XIX",
        "outputId": "0aab5f28-fda0-41d6-8baa-bd3fcd47fa56"
      },
      "execution_count": 16,
      "outputs": [
        {
          "output_type": "stream",
          "name": "stdout",
          "text": [
            "<class 'pandas.core.frame.DataFrame'>\n",
            "RangeIndex: 920 entries, 0 to 919\n",
            "Data columns (total 16 columns):\n",
            " #   Column    Non-Null Count  Dtype  \n",
            "---  ------    --------------  -----  \n",
            " 0   id        920 non-null    int64  \n",
            " 1   age       920 non-null    int64  \n",
            " 2   sex       920 non-null    int64  \n",
            " 3   dataset   920 non-null    int64  \n",
            " 4   cp        920 non-null    int64  \n",
            " 5   trestbps  920 non-null    float64\n",
            " 6   chol      920 non-null    float64\n",
            " 7   fbs       920 non-null    int64  \n",
            " 8   restecg   920 non-null    int64  \n",
            " 9   thalch    920 non-null    float64\n",
            " 10  exang     920 non-null    int64  \n",
            " 11  oldpeak   920 non-null    float64\n",
            " 12  slope     920 non-null    int64  \n",
            " 13  ca        920 non-null    float64\n",
            " 14  thal      920 non-null    int64  \n",
            " 15  num       920 non-null    int64  \n",
            "dtypes: float64(5), int64(11)\n",
            "memory usage: 115.1 KB\n"
          ]
        }
      ]
    },
    {
      "cell_type": "code",
      "source": [
        "data2.describe()"
      ],
      "metadata": {
        "colab": {
          "base_uri": "https://localhost:8080/",
          "height": 364
        },
        "id": "C0aApStpsuiE",
        "outputId": "e13bf8bd-6c06-43ec-83bd-8e8eb727841c"
      },
      "execution_count": 17,
      "outputs": [
        {
          "output_type": "execute_result",
          "data": {
            "text/plain": [
              "               id         age         sex     dataset          cp    trestbps  \\\n",
              "count  920.000000  920.000000  920.000000  920.000000  920.000000  920.000000   \n",
              "mean   460.500000   53.510870    0.789130    1.238043    0.782609  131.995652   \n",
              "std    265.725422    9.424685    0.408148    1.130673    0.956350   18.451300   \n",
              "min      1.000000   28.000000    0.000000    0.000000    0.000000    0.000000   \n",
              "25%    230.750000   47.000000    1.000000    0.000000    0.000000  120.000000   \n",
              "50%    460.500000   54.000000    1.000000    1.000000    0.000000  130.000000   \n",
              "75%    690.250000   60.000000    1.000000    2.000000    2.000000  140.000000   \n",
              "max    920.000000   77.000000    1.000000    3.000000    3.000000  200.000000   \n",
              "\n",
              "             chol         fbs     restecg      thalch       exang     oldpeak  \\\n",
              "count  920.000000  920.000000  920.000000  920.000000  920.000000  920.000000   \n",
              "mean   199.908696    0.150000    0.990217  137.692391    0.366304    0.853261   \n",
              "std    109.040171    0.357266    0.631863   25.145235    0.482056    1.058049   \n",
              "min      0.000000    0.000000    0.000000   60.000000    0.000000   -2.600000   \n",
              "25%    177.750000    0.000000    1.000000  120.000000    0.000000    0.000000   \n",
              "50%    223.000000    0.000000    1.000000  140.000000    0.000000    0.500000   \n",
              "75%    267.000000    0.000000    1.000000  156.000000    1.000000    1.500000   \n",
              "max    603.000000    1.000000    2.000000  202.000000    1.000000    6.200000   \n",
              "\n",
              "            slope          ca        thal         num  \n",
              "count  920.000000  920.000000  920.000000  920.000000  \n",
              "mean     1.152174    0.227174    1.158696    0.553261  \n",
              "std      0.516007    0.628936    0.483493    0.497426  \n",
              "min      0.000000    0.000000    0.000000    0.000000  \n",
              "25%      1.000000    0.000000    1.000000    0.000000  \n",
              "50%      1.000000    0.000000    1.000000    1.000000  \n",
              "75%      1.000000    0.000000    1.000000    1.000000  \n",
              "max      2.000000    3.000000    2.000000    1.000000  "
            ],
            "text/html": [
              "\n",
              "  <div id=\"df-51d2f1bc-f0ec-461c-be0d-c8f47e63698e\">\n",
              "    <div class=\"colab-df-container\">\n",
              "      <div>\n",
              "<style scoped>\n",
              "    .dataframe tbody tr th:only-of-type {\n",
              "        vertical-align: middle;\n",
              "    }\n",
              "\n",
              "    .dataframe tbody tr th {\n",
              "        vertical-align: top;\n",
              "    }\n",
              "\n",
              "    .dataframe thead th {\n",
              "        text-align: right;\n",
              "    }\n",
              "</style>\n",
              "<table border=\"1\" class=\"dataframe\">\n",
              "  <thead>\n",
              "    <tr style=\"text-align: right;\">\n",
              "      <th></th>\n",
              "      <th>id</th>\n",
              "      <th>age</th>\n",
              "      <th>sex</th>\n",
              "      <th>dataset</th>\n",
              "      <th>cp</th>\n",
              "      <th>trestbps</th>\n",
              "      <th>chol</th>\n",
              "      <th>fbs</th>\n",
              "      <th>restecg</th>\n",
              "      <th>thalch</th>\n",
              "      <th>exang</th>\n",
              "      <th>oldpeak</th>\n",
              "      <th>slope</th>\n",
              "      <th>ca</th>\n",
              "      <th>thal</th>\n",
              "      <th>num</th>\n",
              "    </tr>\n",
              "  </thead>\n",
              "  <tbody>\n",
              "    <tr>\n",
              "      <th>count</th>\n",
              "      <td>920.000000</td>\n",
              "      <td>920.000000</td>\n",
              "      <td>920.000000</td>\n",
              "      <td>920.000000</td>\n",
              "      <td>920.000000</td>\n",
              "      <td>920.000000</td>\n",
              "      <td>920.000000</td>\n",
              "      <td>920.000000</td>\n",
              "      <td>920.000000</td>\n",
              "      <td>920.000000</td>\n",
              "      <td>920.000000</td>\n",
              "      <td>920.000000</td>\n",
              "      <td>920.000000</td>\n",
              "      <td>920.000000</td>\n",
              "      <td>920.000000</td>\n",
              "      <td>920.000000</td>\n",
              "    </tr>\n",
              "    <tr>\n",
              "      <th>mean</th>\n",
              "      <td>460.500000</td>\n",
              "      <td>53.510870</td>\n",
              "      <td>0.789130</td>\n",
              "      <td>1.238043</td>\n",
              "      <td>0.782609</td>\n",
              "      <td>131.995652</td>\n",
              "      <td>199.908696</td>\n",
              "      <td>0.150000</td>\n",
              "      <td>0.990217</td>\n",
              "      <td>137.692391</td>\n",
              "      <td>0.366304</td>\n",
              "      <td>0.853261</td>\n",
              "      <td>1.152174</td>\n",
              "      <td>0.227174</td>\n",
              "      <td>1.158696</td>\n",
              "      <td>0.553261</td>\n",
              "    </tr>\n",
              "    <tr>\n",
              "      <th>std</th>\n",
              "      <td>265.725422</td>\n",
              "      <td>9.424685</td>\n",
              "      <td>0.408148</td>\n",
              "      <td>1.130673</td>\n",
              "      <td>0.956350</td>\n",
              "      <td>18.451300</td>\n",
              "      <td>109.040171</td>\n",
              "      <td>0.357266</td>\n",
              "      <td>0.631863</td>\n",
              "      <td>25.145235</td>\n",
              "      <td>0.482056</td>\n",
              "      <td>1.058049</td>\n",
              "      <td>0.516007</td>\n",
              "      <td>0.628936</td>\n",
              "      <td>0.483493</td>\n",
              "      <td>0.497426</td>\n",
              "    </tr>\n",
              "    <tr>\n",
              "      <th>min</th>\n",
              "      <td>1.000000</td>\n",
              "      <td>28.000000</td>\n",
              "      <td>0.000000</td>\n",
              "      <td>0.000000</td>\n",
              "      <td>0.000000</td>\n",
              "      <td>0.000000</td>\n",
              "      <td>0.000000</td>\n",
              "      <td>0.000000</td>\n",
              "      <td>0.000000</td>\n",
              "      <td>60.000000</td>\n",
              "      <td>0.000000</td>\n",
              "      <td>-2.600000</td>\n",
              "      <td>0.000000</td>\n",
              "      <td>0.000000</td>\n",
              "      <td>0.000000</td>\n",
              "      <td>0.000000</td>\n",
              "    </tr>\n",
              "    <tr>\n",
              "      <th>25%</th>\n",
              "      <td>230.750000</td>\n",
              "      <td>47.000000</td>\n",
              "      <td>1.000000</td>\n",
              "      <td>0.000000</td>\n",
              "      <td>0.000000</td>\n",
              "      <td>120.000000</td>\n",
              "      <td>177.750000</td>\n",
              "      <td>0.000000</td>\n",
              "      <td>1.000000</td>\n",
              "      <td>120.000000</td>\n",
              "      <td>0.000000</td>\n",
              "      <td>0.000000</td>\n",
              "      <td>1.000000</td>\n",
              "      <td>0.000000</td>\n",
              "      <td>1.000000</td>\n",
              "      <td>0.000000</td>\n",
              "    </tr>\n",
              "    <tr>\n",
              "      <th>50%</th>\n",
              "      <td>460.500000</td>\n",
              "      <td>54.000000</td>\n",
              "      <td>1.000000</td>\n",
              "      <td>1.000000</td>\n",
              "      <td>0.000000</td>\n",
              "      <td>130.000000</td>\n",
              "      <td>223.000000</td>\n",
              "      <td>0.000000</td>\n",
              "      <td>1.000000</td>\n",
              "      <td>140.000000</td>\n",
              "      <td>0.000000</td>\n",
              "      <td>0.500000</td>\n",
              "      <td>1.000000</td>\n",
              "      <td>0.000000</td>\n",
              "      <td>1.000000</td>\n",
              "      <td>1.000000</td>\n",
              "    </tr>\n",
              "    <tr>\n",
              "      <th>75%</th>\n",
              "      <td>690.250000</td>\n",
              "      <td>60.000000</td>\n",
              "      <td>1.000000</td>\n",
              "      <td>2.000000</td>\n",
              "      <td>2.000000</td>\n",
              "      <td>140.000000</td>\n",
              "      <td>267.000000</td>\n",
              "      <td>0.000000</td>\n",
              "      <td>1.000000</td>\n",
              "      <td>156.000000</td>\n",
              "      <td>1.000000</td>\n",
              "      <td>1.500000</td>\n",
              "      <td>1.000000</td>\n",
              "      <td>0.000000</td>\n",
              "      <td>1.000000</td>\n",
              "      <td>1.000000</td>\n",
              "    </tr>\n",
              "    <tr>\n",
              "      <th>max</th>\n",
              "      <td>920.000000</td>\n",
              "      <td>77.000000</td>\n",
              "      <td>1.000000</td>\n",
              "      <td>3.000000</td>\n",
              "      <td>3.000000</td>\n",
              "      <td>200.000000</td>\n",
              "      <td>603.000000</td>\n",
              "      <td>1.000000</td>\n",
              "      <td>2.000000</td>\n",
              "      <td>202.000000</td>\n",
              "      <td>1.000000</td>\n",
              "      <td>6.200000</td>\n",
              "      <td>2.000000</td>\n",
              "      <td>3.000000</td>\n",
              "      <td>2.000000</td>\n",
              "      <td>1.000000</td>\n",
              "    </tr>\n",
              "  </tbody>\n",
              "</table>\n",
              "</div>\n",
              "      <button class=\"colab-df-convert\" onclick=\"convertToInteractive('df-51d2f1bc-f0ec-461c-be0d-c8f47e63698e')\"\n",
              "              title=\"Convert this dataframe to an interactive table.\"\n",
              "              style=\"display:none;\">\n",
              "        \n",
              "  <svg xmlns=\"http://www.w3.org/2000/svg\" height=\"24px\"viewBox=\"0 0 24 24\"\n",
              "       width=\"24px\">\n",
              "    <path d=\"M0 0h24v24H0V0z\" fill=\"none\"/>\n",
              "    <path d=\"M18.56 5.44l.94 2.06.94-2.06 2.06-.94-2.06-.94-.94-2.06-.94 2.06-2.06.94zm-11 1L8.5 8.5l.94-2.06 2.06-.94-2.06-.94L8.5 2.5l-.94 2.06-2.06.94zm10 10l.94 2.06.94-2.06 2.06-.94-2.06-.94-.94-2.06-.94 2.06-2.06.94z\"/><path d=\"M17.41 7.96l-1.37-1.37c-.4-.4-.92-.59-1.43-.59-.52 0-1.04.2-1.43.59L10.3 9.45l-7.72 7.72c-.78.78-.78 2.05 0 2.83L4 21.41c.39.39.9.59 1.41.59.51 0 1.02-.2 1.41-.59l7.78-7.78 2.81-2.81c.8-.78.8-2.07 0-2.86zM5.41 20L4 18.59l7.72-7.72 1.47 1.35L5.41 20z\"/>\n",
              "  </svg>\n",
              "      </button>\n",
              "      \n",
              "  <style>\n",
              "    .colab-df-container {\n",
              "      display:flex;\n",
              "      flex-wrap:wrap;\n",
              "      gap: 12px;\n",
              "    }\n",
              "\n",
              "    .colab-df-convert {\n",
              "      background-color: #E8F0FE;\n",
              "      border: none;\n",
              "      border-radius: 50%;\n",
              "      cursor: pointer;\n",
              "      display: none;\n",
              "      fill: #1967D2;\n",
              "      height: 32px;\n",
              "      padding: 0 0 0 0;\n",
              "      width: 32px;\n",
              "    }\n",
              "\n",
              "    .colab-df-convert:hover {\n",
              "      background-color: #E2EBFA;\n",
              "      box-shadow: 0px 1px 2px rgba(60, 64, 67, 0.3), 0px 1px 3px 1px rgba(60, 64, 67, 0.15);\n",
              "      fill: #174EA6;\n",
              "    }\n",
              "\n",
              "    [theme=dark] .colab-df-convert {\n",
              "      background-color: #3B4455;\n",
              "      fill: #D2E3FC;\n",
              "    }\n",
              "\n",
              "    [theme=dark] .colab-df-convert:hover {\n",
              "      background-color: #434B5C;\n",
              "      box-shadow: 0px 1px 3px 1px rgba(0, 0, 0, 0.15);\n",
              "      filter: drop-shadow(0px 1px 2px rgba(0, 0, 0, 0.3));\n",
              "      fill: #FFFFFF;\n",
              "    }\n",
              "  </style>\n",
              "\n",
              "      <script>\n",
              "        const buttonEl =\n",
              "          document.querySelector('#df-51d2f1bc-f0ec-461c-be0d-c8f47e63698e button.colab-df-convert');\n",
              "        buttonEl.style.display =\n",
              "          google.colab.kernel.accessAllowed ? 'block' : 'none';\n",
              "\n",
              "        async function convertToInteractive(key) {\n",
              "          const element = document.querySelector('#df-51d2f1bc-f0ec-461c-be0d-c8f47e63698e');\n",
              "          const dataTable =\n",
              "            await google.colab.kernel.invokeFunction('convertToInteractive',\n",
              "                                                     [key], {});\n",
              "          if (!dataTable) return;\n",
              "\n",
              "          const docLinkHtml = 'Like what you see? Visit the ' +\n",
              "            '<a target=\"_blank\" href=https://colab.research.google.com/notebooks/data_table.ipynb>data table notebook</a>'\n",
              "            + ' to learn more about interactive tables.';\n",
              "          element.innerHTML = '';\n",
              "          dataTable['output_type'] = 'display_data';\n",
              "          await google.colab.output.renderOutput(dataTable, element);\n",
              "          const docLink = document.createElement('div');\n",
              "          docLink.innerHTML = docLinkHtml;\n",
              "          element.appendChild(docLink);\n",
              "        }\n",
              "      </script>\n",
              "    </div>\n",
              "  </div>\n",
              "  "
            ]
          },
          "metadata": {},
          "execution_count": 17
        }
      ]
    },
    {
      "cell_type": "code",
      "source": [
        "data2.corr()"
      ],
      "metadata": {
        "colab": {
          "base_uri": "https://localhost:8080/",
          "height": 615
        },
        "id": "m0hiTRBxs4s9",
        "outputId": "6f9e37b9-67c8-457b-c860-de4f7b202871"
      },
      "execution_count": 18,
      "outputs": [
        {
          "output_type": "execute_result",
          "data": {
            "text/plain": [
              "                id       age       sex   dataset        cp  trestbps  \\\n",
              "id        1.000000  0.239301  0.280053  0.949062 -0.189430  0.039382   \n",
              "age       0.239301  1.000000  0.056889  0.235076 -0.076519  0.230784   \n",
              "sex       0.280053  0.056889  1.000000  0.285734 -0.125933 -0.002145   \n",
              "dataset   0.949062  0.235076  0.285734  1.000000 -0.150334  0.008343   \n",
              "cp       -0.189430 -0.076519 -0.125933 -0.150334  1.000000 -0.023980   \n",
              "trestbps  0.039382  0.230784 -0.002145  0.008343 -0.023980  1.000000   \n",
              "chol     -0.370721 -0.086010 -0.194029 -0.410777  0.065089  0.089484   \n",
              "fbs       0.148983  0.219915  0.075370  0.170110  0.006370  0.143709   \n",
              "restecg   0.479012 -0.006652  0.072160  0.460189 -0.070150  0.010263   \n",
              "thalch   -0.428727 -0.349715 -0.174590 -0.373492  0.290613 -0.104747   \n",
              "exang     0.166239  0.160910  0.155204  0.129326 -0.360513  0.153835   \n",
              "oldpeak   0.014034  0.233550  0.090794  0.012767 -0.177489  0.161217   \n",
              "slope    -0.305000 -0.077087 -0.105805 -0.297152  0.113415 -0.050446   \n",
              "ca       -0.385881  0.219413 -0.037847 -0.371451 -0.046250  0.039092   \n",
              "thal     -0.169764  0.101109  0.076023 -0.146806 -0.097099  0.066675   \n",
              "num       0.356086  0.282700  0.307284  0.295696 -0.385077  0.101273   \n",
              "\n",
              "              chol       fbs   restecg    thalch     exang   oldpeak  \\\n",
              "id       -0.370721  0.148983  0.479012 -0.428727  0.166239  0.014034   \n",
              "age      -0.086010  0.219915 -0.006652 -0.349715  0.160910  0.233550   \n",
              "sex      -0.194029  0.075370  0.072160 -0.174590  0.155204  0.090794   \n",
              "dataset  -0.410777  0.170110  0.460189 -0.373492  0.129326  0.012767   \n",
              "cp        0.065089  0.006370 -0.070150  0.290613 -0.360513 -0.177489   \n",
              "trestbps  0.089484  0.143709  0.010263 -0.104747  0.153835  0.161217   \n",
              "chol      1.000000  0.089316 -0.199594  0.226047 -0.033914  0.047454   \n",
              "fbs       0.089316  1.000000  0.025788 -0.026472 -0.003475  0.034112   \n",
              "restecg  -0.199594  0.025788  1.000000 -0.161818  0.026067 -0.047235   \n",
              "thalch    0.226047 -0.026472 -0.161818  1.000000 -0.354173 -0.149401   \n",
              "exang    -0.033914 -0.003475  0.026067 -0.354173  1.000000  0.395650   \n",
              "oldpeak   0.047454  0.034112 -0.047235 -0.149401  0.395650  1.000000   \n",
              "slope     0.033221 -0.070830 -0.128925  0.289251 -0.193716 -0.256223   \n",
              "ca        0.152514  0.061260 -0.306549  0.038207  0.037478  0.218412   \n",
              "thal     -0.052708 -0.005670 -0.169442 -0.054336  0.165831  0.122147   \n",
              "num      -0.228976  0.108071  0.058783 -0.381864  0.433605  0.366138   \n",
              "\n",
              "             slope        ca      thal       num  \n",
              "id       -0.305000 -0.385881 -0.169764  0.356086  \n",
              "age      -0.077087  0.219413  0.101109  0.282700  \n",
              "sex      -0.105805 -0.037847  0.076023  0.307284  \n",
              "dataset  -0.297152 -0.371451 -0.146806  0.295696  \n",
              "cp        0.113415 -0.046250 -0.097099 -0.385077  \n",
              "trestbps -0.050446  0.039092  0.066675  0.101273  \n",
              "chol      0.033221  0.152514 -0.052708 -0.228976  \n",
              "fbs      -0.070830  0.061260 -0.005670  0.108071  \n",
              "restecg  -0.128925 -0.306549 -0.169442  0.058783  \n",
              "thalch    0.289251  0.038207 -0.054336 -0.381864  \n",
              "exang    -0.193716  0.037478  0.165831  0.433605  \n",
              "oldpeak  -0.256223  0.218412  0.122147  0.366138  \n",
              "slope     1.000000  0.104596  0.038306 -0.205425  \n",
              "ca        0.104596  1.000000  0.203369  0.164755  \n",
              "thal      0.038306  0.203369  1.000000  0.172942  \n",
              "num      -0.205425  0.164755  0.172942  1.000000  "
            ],
            "text/html": [
              "\n",
              "  <div id=\"df-b892a45c-6f47-41d6-bc79-423fe2fbdef3\">\n",
              "    <div class=\"colab-df-container\">\n",
              "      <div>\n",
              "<style scoped>\n",
              "    .dataframe tbody tr th:only-of-type {\n",
              "        vertical-align: middle;\n",
              "    }\n",
              "\n",
              "    .dataframe tbody tr th {\n",
              "        vertical-align: top;\n",
              "    }\n",
              "\n",
              "    .dataframe thead th {\n",
              "        text-align: right;\n",
              "    }\n",
              "</style>\n",
              "<table border=\"1\" class=\"dataframe\">\n",
              "  <thead>\n",
              "    <tr style=\"text-align: right;\">\n",
              "      <th></th>\n",
              "      <th>id</th>\n",
              "      <th>age</th>\n",
              "      <th>sex</th>\n",
              "      <th>dataset</th>\n",
              "      <th>cp</th>\n",
              "      <th>trestbps</th>\n",
              "      <th>chol</th>\n",
              "      <th>fbs</th>\n",
              "      <th>restecg</th>\n",
              "      <th>thalch</th>\n",
              "      <th>exang</th>\n",
              "      <th>oldpeak</th>\n",
              "      <th>slope</th>\n",
              "      <th>ca</th>\n",
              "      <th>thal</th>\n",
              "      <th>num</th>\n",
              "    </tr>\n",
              "  </thead>\n",
              "  <tbody>\n",
              "    <tr>\n",
              "      <th>id</th>\n",
              "      <td>1.000000</td>\n",
              "      <td>0.239301</td>\n",
              "      <td>0.280053</td>\n",
              "      <td>0.949062</td>\n",
              "      <td>-0.189430</td>\n",
              "      <td>0.039382</td>\n",
              "      <td>-0.370721</td>\n",
              "      <td>0.148983</td>\n",
              "      <td>0.479012</td>\n",
              "      <td>-0.428727</td>\n",
              "      <td>0.166239</td>\n",
              "      <td>0.014034</td>\n",
              "      <td>-0.305000</td>\n",
              "      <td>-0.385881</td>\n",
              "      <td>-0.169764</td>\n",
              "      <td>0.356086</td>\n",
              "    </tr>\n",
              "    <tr>\n",
              "      <th>age</th>\n",
              "      <td>0.239301</td>\n",
              "      <td>1.000000</td>\n",
              "      <td>0.056889</td>\n",
              "      <td>0.235076</td>\n",
              "      <td>-0.076519</td>\n",
              "      <td>0.230784</td>\n",
              "      <td>-0.086010</td>\n",
              "      <td>0.219915</td>\n",
              "      <td>-0.006652</td>\n",
              "      <td>-0.349715</td>\n",
              "      <td>0.160910</td>\n",
              "      <td>0.233550</td>\n",
              "      <td>-0.077087</td>\n",
              "      <td>0.219413</td>\n",
              "      <td>0.101109</td>\n",
              "      <td>0.282700</td>\n",
              "    </tr>\n",
              "    <tr>\n",
              "      <th>sex</th>\n",
              "      <td>0.280053</td>\n",
              "      <td>0.056889</td>\n",
              "      <td>1.000000</td>\n",
              "      <td>0.285734</td>\n",
              "      <td>-0.125933</td>\n",
              "      <td>-0.002145</td>\n",
              "      <td>-0.194029</td>\n",
              "      <td>0.075370</td>\n",
              "      <td>0.072160</td>\n",
              "      <td>-0.174590</td>\n",
              "      <td>0.155204</td>\n",
              "      <td>0.090794</td>\n",
              "      <td>-0.105805</td>\n",
              "      <td>-0.037847</td>\n",
              "      <td>0.076023</td>\n",
              "      <td>0.307284</td>\n",
              "    </tr>\n",
              "    <tr>\n",
              "      <th>dataset</th>\n",
              "      <td>0.949062</td>\n",
              "      <td>0.235076</td>\n",
              "      <td>0.285734</td>\n",
              "      <td>1.000000</td>\n",
              "      <td>-0.150334</td>\n",
              "      <td>0.008343</td>\n",
              "      <td>-0.410777</td>\n",
              "      <td>0.170110</td>\n",
              "      <td>0.460189</td>\n",
              "      <td>-0.373492</td>\n",
              "      <td>0.129326</td>\n",
              "      <td>0.012767</td>\n",
              "      <td>-0.297152</td>\n",
              "      <td>-0.371451</td>\n",
              "      <td>-0.146806</td>\n",
              "      <td>0.295696</td>\n",
              "    </tr>\n",
              "    <tr>\n",
              "      <th>cp</th>\n",
              "      <td>-0.189430</td>\n",
              "      <td>-0.076519</td>\n",
              "      <td>-0.125933</td>\n",
              "      <td>-0.150334</td>\n",
              "      <td>1.000000</td>\n",
              "      <td>-0.023980</td>\n",
              "      <td>0.065089</td>\n",
              "      <td>0.006370</td>\n",
              "      <td>-0.070150</td>\n",
              "      <td>0.290613</td>\n",
              "      <td>-0.360513</td>\n",
              "      <td>-0.177489</td>\n",
              "      <td>0.113415</td>\n",
              "      <td>-0.046250</td>\n",
              "      <td>-0.097099</td>\n",
              "      <td>-0.385077</td>\n",
              "    </tr>\n",
              "    <tr>\n",
              "      <th>trestbps</th>\n",
              "      <td>0.039382</td>\n",
              "      <td>0.230784</td>\n",
              "      <td>-0.002145</td>\n",
              "      <td>0.008343</td>\n",
              "      <td>-0.023980</td>\n",
              "      <td>1.000000</td>\n",
              "      <td>0.089484</td>\n",
              "      <td>0.143709</td>\n",
              "      <td>0.010263</td>\n",
              "      <td>-0.104747</td>\n",
              "      <td>0.153835</td>\n",
              "      <td>0.161217</td>\n",
              "      <td>-0.050446</td>\n",
              "      <td>0.039092</td>\n",
              "      <td>0.066675</td>\n",
              "      <td>0.101273</td>\n",
              "    </tr>\n",
              "    <tr>\n",
              "      <th>chol</th>\n",
              "      <td>-0.370721</td>\n",
              "      <td>-0.086010</td>\n",
              "      <td>-0.194029</td>\n",
              "      <td>-0.410777</td>\n",
              "      <td>0.065089</td>\n",
              "      <td>0.089484</td>\n",
              "      <td>1.000000</td>\n",
              "      <td>0.089316</td>\n",
              "      <td>-0.199594</td>\n",
              "      <td>0.226047</td>\n",
              "      <td>-0.033914</td>\n",
              "      <td>0.047454</td>\n",
              "      <td>0.033221</td>\n",
              "      <td>0.152514</td>\n",
              "      <td>-0.052708</td>\n",
              "      <td>-0.228976</td>\n",
              "    </tr>\n",
              "    <tr>\n",
              "      <th>fbs</th>\n",
              "      <td>0.148983</td>\n",
              "      <td>0.219915</td>\n",
              "      <td>0.075370</td>\n",
              "      <td>0.170110</td>\n",
              "      <td>0.006370</td>\n",
              "      <td>0.143709</td>\n",
              "      <td>0.089316</td>\n",
              "      <td>1.000000</td>\n",
              "      <td>0.025788</td>\n",
              "      <td>-0.026472</td>\n",
              "      <td>-0.003475</td>\n",
              "      <td>0.034112</td>\n",
              "      <td>-0.070830</td>\n",
              "      <td>0.061260</td>\n",
              "      <td>-0.005670</td>\n",
              "      <td>0.108071</td>\n",
              "    </tr>\n",
              "    <tr>\n",
              "      <th>restecg</th>\n",
              "      <td>0.479012</td>\n",
              "      <td>-0.006652</td>\n",
              "      <td>0.072160</td>\n",
              "      <td>0.460189</td>\n",
              "      <td>-0.070150</td>\n",
              "      <td>0.010263</td>\n",
              "      <td>-0.199594</td>\n",
              "      <td>0.025788</td>\n",
              "      <td>1.000000</td>\n",
              "      <td>-0.161818</td>\n",
              "      <td>0.026067</td>\n",
              "      <td>-0.047235</td>\n",
              "      <td>-0.128925</td>\n",
              "      <td>-0.306549</td>\n",
              "      <td>-0.169442</td>\n",
              "      <td>0.058783</td>\n",
              "    </tr>\n",
              "    <tr>\n",
              "      <th>thalch</th>\n",
              "      <td>-0.428727</td>\n",
              "      <td>-0.349715</td>\n",
              "      <td>-0.174590</td>\n",
              "      <td>-0.373492</td>\n",
              "      <td>0.290613</td>\n",
              "      <td>-0.104747</td>\n",
              "      <td>0.226047</td>\n",
              "      <td>-0.026472</td>\n",
              "      <td>-0.161818</td>\n",
              "      <td>1.000000</td>\n",
              "      <td>-0.354173</td>\n",
              "      <td>-0.149401</td>\n",
              "      <td>0.289251</td>\n",
              "      <td>0.038207</td>\n",
              "      <td>-0.054336</td>\n",
              "      <td>-0.381864</td>\n",
              "    </tr>\n",
              "    <tr>\n",
              "      <th>exang</th>\n",
              "      <td>0.166239</td>\n",
              "      <td>0.160910</td>\n",
              "      <td>0.155204</td>\n",
              "      <td>0.129326</td>\n",
              "      <td>-0.360513</td>\n",
              "      <td>0.153835</td>\n",
              "      <td>-0.033914</td>\n",
              "      <td>-0.003475</td>\n",
              "      <td>0.026067</td>\n",
              "      <td>-0.354173</td>\n",
              "      <td>1.000000</td>\n",
              "      <td>0.395650</td>\n",
              "      <td>-0.193716</td>\n",
              "      <td>0.037478</td>\n",
              "      <td>0.165831</td>\n",
              "      <td>0.433605</td>\n",
              "    </tr>\n",
              "    <tr>\n",
              "      <th>oldpeak</th>\n",
              "      <td>0.014034</td>\n",
              "      <td>0.233550</td>\n",
              "      <td>0.090794</td>\n",
              "      <td>0.012767</td>\n",
              "      <td>-0.177489</td>\n",
              "      <td>0.161217</td>\n",
              "      <td>0.047454</td>\n",
              "      <td>0.034112</td>\n",
              "      <td>-0.047235</td>\n",
              "      <td>-0.149401</td>\n",
              "      <td>0.395650</td>\n",
              "      <td>1.000000</td>\n",
              "      <td>-0.256223</td>\n",
              "      <td>0.218412</td>\n",
              "      <td>0.122147</td>\n",
              "      <td>0.366138</td>\n",
              "    </tr>\n",
              "    <tr>\n",
              "      <th>slope</th>\n",
              "      <td>-0.305000</td>\n",
              "      <td>-0.077087</td>\n",
              "      <td>-0.105805</td>\n",
              "      <td>-0.297152</td>\n",
              "      <td>0.113415</td>\n",
              "      <td>-0.050446</td>\n",
              "      <td>0.033221</td>\n",
              "      <td>-0.070830</td>\n",
              "      <td>-0.128925</td>\n",
              "      <td>0.289251</td>\n",
              "      <td>-0.193716</td>\n",
              "      <td>-0.256223</td>\n",
              "      <td>1.000000</td>\n",
              "      <td>0.104596</td>\n",
              "      <td>0.038306</td>\n",
              "      <td>-0.205425</td>\n",
              "    </tr>\n",
              "    <tr>\n",
              "      <th>ca</th>\n",
              "      <td>-0.385881</td>\n",
              "      <td>0.219413</td>\n",
              "      <td>-0.037847</td>\n",
              "      <td>-0.371451</td>\n",
              "      <td>-0.046250</td>\n",
              "      <td>0.039092</td>\n",
              "      <td>0.152514</td>\n",
              "      <td>0.061260</td>\n",
              "      <td>-0.306549</td>\n",
              "      <td>0.038207</td>\n",
              "      <td>0.037478</td>\n",
              "      <td>0.218412</td>\n",
              "      <td>0.104596</td>\n",
              "      <td>1.000000</td>\n",
              "      <td>0.203369</td>\n",
              "      <td>0.164755</td>\n",
              "    </tr>\n",
              "    <tr>\n",
              "      <th>thal</th>\n",
              "      <td>-0.169764</td>\n",
              "      <td>0.101109</td>\n",
              "      <td>0.076023</td>\n",
              "      <td>-0.146806</td>\n",
              "      <td>-0.097099</td>\n",
              "      <td>0.066675</td>\n",
              "      <td>-0.052708</td>\n",
              "      <td>-0.005670</td>\n",
              "      <td>-0.169442</td>\n",
              "      <td>-0.054336</td>\n",
              "      <td>0.165831</td>\n",
              "      <td>0.122147</td>\n",
              "      <td>0.038306</td>\n",
              "      <td>0.203369</td>\n",
              "      <td>1.000000</td>\n",
              "      <td>0.172942</td>\n",
              "    </tr>\n",
              "    <tr>\n",
              "      <th>num</th>\n",
              "      <td>0.356086</td>\n",
              "      <td>0.282700</td>\n",
              "      <td>0.307284</td>\n",
              "      <td>0.295696</td>\n",
              "      <td>-0.385077</td>\n",
              "      <td>0.101273</td>\n",
              "      <td>-0.228976</td>\n",
              "      <td>0.108071</td>\n",
              "      <td>0.058783</td>\n",
              "      <td>-0.381864</td>\n",
              "      <td>0.433605</td>\n",
              "      <td>0.366138</td>\n",
              "      <td>-0.205425</td>\n",
              "      <td>0.164755</td>\n",
              "      <td>0.172942</td>\n",
              "      <td>1.000000</td>\n",
              "    </tr>\n",
              "  </tbody>\n",
              "</table>\n",
              "</div>\n",
              "      <button class=\"colab-df-convert\" onclick=\"convertToInteractive('df-b892a45c-6f47-41d6-bc79-423fe2fbdef3')\"\n",
              "              title=\"Convert this dataframe to an interactive table.\"\n",
              "              style=\"display:none;\">\n",
              "        \n",
              "  <svg xmlns=\"http://www.w3.org/2000/svg\" height=\"24px\"viewBox=\"0 0 24 24\"\n",
              "       width=\"24px\">\n",
              "    <path d=\"M0 0h24v24H0V0z\" fill=\"none\"/>\n",
              "    <path d=\"M18.56 5.44l.94 2.06.94-2.06 2.06-.94-2.06-.94-.94-2.06-.94 2.06-2.06.94zm-11 1L8.5 8.5l.94-2.06 2.06-.94-2.06-.94L8.5 2.5l-.94 2.06-2.06.94zm10 10l.94 2.06.94-2.06 2.06-.94-2.06-.94-.94-2.06-.94 2.06-2.06.94z\"/><path d=\"M17.41 7.96l-1.37-1.37c-.4-.4-.92-.59-1.43-.59-.52 0-1.04.2-1.43.59L10.3 9.45l-7.72 7.72c-.78.78-.78 2.05 0 2.83L4 21.41c.39.39.9.59 1.41.59.51 0 1.02-.2 1.41-.59l7.78-7.78 2.81-2.81c.8-.78.8-2.07 0-2.86zM5.41 20L4 18.59l7.72-7.72 1.47 1.35L5.41 20z\"/>\n",
              "  </svg>\n",
              "      </button>\n",
              "      \n",
              "  <style>\n",
              "    .colab-df-container {\n",
              "      display:flex;\n",
              "      flex-wrap:wrap;\n",
              "      gap: 12px;\n",
              "    }\n",
              "\n",
              "    .colab-df-convert {\n",
              "      background-color: #E8F0FE;\n",
              "      border: none;\n",
              "      border-radius: 50%;\n",
              "      cursor: pointer;\n",
              "      display: none;\n",
              "      fill: #1967D2;\n",
              "      height: 32px;\n",
              "      padding: 0 0 0 0;\n",
              "      width: 32px;\n",
              "    }\n",
              "\n",
              "    .colab-df-convert:hover {\n",
              "      background-color: #E2EBFA;\n",
              "      box-shadow: 0px 1px 2px rgba(60, 64, 67, 0.3), 0px 1px 3px 1px rgba(60, 64, 67, 0.15);\n",
              "      fill: #174EA6;\n",
              "    }\n",
              "\n",
              "    [theme=dark] .colab-df-convert {\n",
              "      background-color: #3B4455;\n",
              "      fill: #D2E3FC;\n",
              "    }\n",
              "\n",
              "    [theme=dark] .colab-df-convert:hover {\n",
              "      background-color: #434B5C;\n",
              "      box-shadow: 0px 1px 3px 1px rgba(0, 0, 0, 0.15);\n",
              "      filter: drop-shadow(0px 1px 2px rgba(0, 0, 0, 0.3));\n",
              "      fill: #FFFFFF;\n",
              "    }\n",
              "  </style>\n",
              "\n",
              "      <script>\n",
              "        const buttonEl =\n",
              "          document.querySelector('#df-b892a45c-6f47-41d6-bc79-423fe2fbdef3 button.colab-df-convert');\n",
              "        buttonEl.style.display =\n",
              "          google.colab.kernel.accessAllowed ? 'block' : 'none';\n",
              "\n",
              "        async function convertToInteractive(key) {\n",
              "          const element = document.querySelector('#df-b892a45c-6f47-41d6-bc79-423fe2fbdef3');\n",
              "          const dataTable =\n",
              "            await google.colab.kernel.invokeFunction('convertToInteractive',\n",
              "                                                     [key], {});\n",
              "          if (!dataTable) return;\n",
              "\n",
              "          const docLinkHtml = 'Like what you see? Visit the ' +\n",
              "            '<a target=\"_blank\" href=https://colab.research.google.com/notebooks/data_table.ipynb>data table notebook</a>'\n",
              "            + ' to learn more about interactive tables.';\n",
              "          element.innerHTML = '';\n",
              "          dataTable['output_type'] = 'display_data';\n",
              "          await google.colab.output.renderOutput(dataTable, element);\n",
              "          const docLink = document.createElement('div');\n",
              "          docLink.innerHTML = docLinkHtml;\n",
              "          element.appendChild(docLink);\n",
              "        }\n",
              "      </script>\n",
              "    </div>\n",
              "  </div>\n",
              "  "
            ]
          },
          "metadata": {},
          "execution_count": 18
        }
      ]
    },
    {
      "cell_type": "code",
      "source": [
        "#B) Data Visualization:\n",
        "#a. Visualize the number of patients having a heart disease and not having a heart disease.\n",
        "#b. Visualize the age and weather patient has disease or not\n",
        "#c. Visualize correlation between all features using a heat map"
      ],
      "metadata": {
        "id": "D649c0XNtBUW"
      },
      "execution_count": 19,
      "outputs": []
    },
    {
      "cell_type": "code",
      "source": [
        "#a. Visualize the number of patients having a heart disease and not having a heart disease.\n",
        "data2.num.hist()\n",
        "plt.title(\"Distribution of Disease\", fontsize=20)\n",
        "plt.xlabel(\"Disease\")\n",
        "plt.ylabel(\"No of Patients\")\n",
        "plt.show()"
      ],
      "metadata": {
        "colab": {
          "base_uri": "https://localhost:8080/",
          "height": 300
        },
        "id": "MJ65hBkOuWY1",
        "outputId": "ae8ffdba-55aa-41be-c4b6-7e0aa10f22b2"
      },
      "execution_count": 20,
      "outputs": [
        {
          "output_type": "display_data",
          "data": {
            "text/plain": [
              "<Figure size 432x288 with 1 Axes>"
            ],
            "image/png": "[encoded data removed]"
          },
          "metadata": {
            "needs_background": "light"
          }
        }
      ]
    },
    {
      "cell_type": "code",
      "source": [
        "#b. Visualize the age and weather patient has disease or not\n",
        "sns.histplot(x=\"age\", data=data,hue='num',multiple='dodge')\n",
        "plt.show()"
      ],
      "metadata": {
        "colab": {
          "base_uri": "https://localhost:8080/",
          "height": 279
        },
        "id": "6wqW9-uCvJYg",
        "outputId": "17e622d4-6db0-484e-b90c-5ba02973727e"
      },
      "execution_count": 21,
      "outputs": [
        {
          "output_type": "display_data",
          "data": {
            "text/plain": [
              "<Figure size 432x288 with 1 Axes>"
            ],
            "image/png": "[encoded data removed]"
          },
          "metadata": {
            "needs_background": "light"
          }
        }
      ]
    },
    {
      "cell_type": "code",
      "source": [
        "#c. Visualize correlation between all features using a heat map\n",
        "plt.figure(figsize=(20,20))\n",
        "sns.heatmap(data2.corr(),cmap=\"YlGnBu\", annot=True)"
      ],
      "metadata": {
        "colab": {
          "base_uri": "https://localhost:8080/",
          "height": 1000
        },
        "id": "iCFTcd_vwgXb",
        "outputId": "c9813d27-b032-409a-f9cc-27b7c068d6af"
      },
      "execution_count": 22,
      "outputs": [
        {
          "output_type": "execute_result",
          "data": {
            "text/plain": [
              "<matplotlib.axes._subplots.AxesSubplot at 0x7f87ebf9a9d0>"
            ]
          },
          "metadata": {},
          "execution_count": 22
        },
        {
          "output_type": "display_data",
          "data": {
            "text/plain": [
              "<Figure size 1440x1440 with 2 Axes>"
            ],
            "image/png": "[encoded data removed]"
          },
          "metadata": {
            "needs_background": "light"
          }
        }
      ]
    },
    {
      "cell_type": "code",
      "source": [],
      "metadata": {
        "id": "0qNA5hsQxa9b"
      },
      "execution_count": 22,
      "outputs": []
    },
    {
      "cell_type": "markdown",
      "source": [
        "## C) Logistic Regression:"
      ],
      "metadata": {
        "id": "AfiW0_L-xFOM"
      }
    },
    {
      "cell_type": "code",
      "source": [
        "\n",
        "#a. Build a simple logistic regression model\n",
        "#i. Divide the dataset in 70:30 ratio\n",
        "#ii. Build the model on train set and predict the values on test set\n",
        "#iii. Build the confusion matrix and get the accuracy score"
      ],
      "metadata": {
        "id": "cTRVuKzLw-mU"
      },
      "execution_count": 23,
      "outputs": []
    },
    {
      "cell_type": "code",
      "source": [
        "X = data2.drop(['num','age','ca','thal',\"dataset\"],axis=1)\n",
        "y = data2['num']"
      ],
      "metadata": {
        "id": "mnNWia3xyBH2"
      },
      "execution_count": 24,
      "outputs": []
    },
    {
      "cell_type": "code",
      "source": [
        "X.head()"
      ],
      "metadata": {
        "colab": {
          "base_uri": "https://localhost:8080/",
          "height": 206
        },
        "id": "D4i0fcPK2T4q",
        "outputId": "3e92ddcf-8b24-433a-a480-88321ab47bf4"
      },
      "execution_count": 25,
      "outputs": [
        {
          "output_type": "execute_result",
          "data": {
            "text/plain": [
              "   id  sex  cp  trestbps   chol  fbs  restecg  thalch  exang  oldpeak  slope\n",
              "0   1    1   3     145.0  233.0    1        0   150.0      0      2.3      0\n",
              "1   2    1   0     160.0  286.0    0        0   108.0      1      1.5      1\n",
              "2   3    1   0     120.0  229.0    0        0   129.0      1      2.6      1\n",
              "3   4    1   2     130.0  250.0    0        1   187.0      0      3.5      0\n",
              "4   5    0   1     130.0  204.0    0        0   172.0      0      1.4      2"
            ],
            "text/html": [
              "\n",
              "  <div id=\"df-e43b1184-b2c5-4f78-9a6c-5259ce4bb09b\">\n",
              "    <div class=\"colab-df-container\">\n",
              "      <div>\n",
              "<style scoped>\n",
              "    .dataframe tbody tr th:only-of-type {\n",
              "        vertical-align: middle;\n",
              "    }\n",
              "\n",
              "    .dataframe tbody tr th {\n",
              "        vertical-align: top;\n",
              "    }\n",
              "\n",
              "    .dataframe thead th {\n",
              "        text-align: right;\n",
              "    }\n",
              "</style>\n",
              "<table border=\"1\" class=\"dataframe\">\n",
              "  <thead>\n",
              "    <tr style=\"text-align: right;\">\n",
              "      <th></th>\n",
              "      <th>id</th>\n",
              "      <th>sex</th>\n",
              "      <th>cp</th>\n",
              "      <th>trestbps</th>\n",
              "      <th>chol</th>\n",
              "      <th>fbs</th>\n",
              "      <th>restecg</th>\n",
              "      <th>thalch</th>\n",
              "      <th>exang</th>\n",
              "      <th>oldpeak</th>\n",
              "      <th>slope</th>\n",
              "    </tr>\n",
              "  </thead>\n",
              "  <tbody>\n",
              "    <tr>\n",
              "      <th>0</th>\n",
              "      <td>1</td>\n",
              "      <td>1</td>\n",
              "      <td>3</td>\n",
              "      <td>145.0</td>\n",
              "      <td>233.0</td>\n",
              "      <td>1</td>\n",
              "      <td>0</td>\n",
              "      <td>150.0</td>\n",
              "      <td>0</td>\n",
              "      <td>2.3</td>\n",
              "      <td>0</td>\n",
              "    </tr>\n",
              "    <tr>\n",
              "      <th>1</th>\n",
              "      <td>2</td>\n",
              "      <td>1</td>\n",
              "      <td>0</td>\n",
              "      <td>160.0</td>\n",
              "      <td>286.0</td>\n",
              "      <td>0</td>\n",
              "      <td>0</td>\n",
              "      <td>108.0</td>\n",
              "      <td>1</td>\n",
              "      <td>1.5</td>\n",
              "      <td>1</td>\n",
              "    </tr>\n",
              "    <tr>\n",
              "      <th>2</th>\n",
              "      <td>3</td>\n",
              "      <td>1</td>\n",
              "      <td>0</td>\n",
              "      <td>120.0</td>\n",
              "      <td>229.0</td>\n",
              "      <td>0</td>\n",
              "      <td>0</td>\n",
              "      <td>129.0</td>\n",
              "      <td>1</td>\n",
              "      <td>2.6</td>\n",
              "      <td>1</td>\n",
              "    </tr>\n",
              "    <tr>\n",
              "      <th>3</th>\n",
              "      <td>4</td>\n",
              "      <td>1</td>\n",
              "      <td>2</td>\n",
              "      <td>130.0</td>\n",
              "      <td>250.0</td>\n",
              "      <td>0</td>\n",
              "      <td>1</td>\n",
              "      <td>187.0</td>\n",
              "      <td>0</td>\n",
              "      <td>3.5</td>\n",
              "      <td>0</td>\n",
              "    </tr>\n",
              "    <tr>\n",
              "      <th>4</th>\n",
              "      <td>5</td>\n",
              "      <td>0</td>\n",
              "      <td>1</td>\n",
              "      <td>130.0</td>\n",
              "      <td>204.0</td>\n",
              "      <td>0</td>\n",
              "      <td>0</td>\n",
              "      <td>172.0</td>\n",
              "      <td>0</td>\n",
              "      <td>1.4</td>\n",
              "      <td>2</td>\n",
              "    </tr>\n",
              "  </tbody>\n",
              "</table>\n",
              "</div>\n",
              "      <button class=\"colab-df-convert\" onclick=\"convertToInteractive('df-e43b1184-b2c5-4f78-9a6c-5259ce4bb09b')\"\n",
              "              title=\"Convert this dataframe to an interactive table.\"\n",
              "              style=\"display:none;\">\n",
              "        \n",
              "  <svg xmlns=\"http://www.w3.org/2000/svg\" height=\"24px\"viewBox=\"0 0 24 24\"\n",
              "       width=\"24px\">\n",
              "    <path d=\"M0 0h24v24H0V0z\" fill=\"none\"/>\n",
              "    <path d=\"M18.56 5.44l.94 2.06.94-2.06 2.06-.94-2.06-.94-.94-2.06-.94 2.06-2.06.94zm-11 1L8.5 8.5l.94-2.06 2.06-.94-2.06-.94L8.5 2.5l-.94 2.06-2.06.94zm10 10l.94 2.06.94-2.06 2.06-.94-2.06-.94-.94-2.06-.94 2.06-2.06.94z\"/><path d=\"M17.41 7.96l-1.37-1.37c-.4-.4-.92-.59-1.43-.59-.52 0-1.04.2-1.43.59L10.3 9.45l-7.72 7.72c-.78.78-.78 2.05 0 2.83L4 21.41c.39.39.9.59 1.41.59.51 0 1.02-.2 1.41-.59l7.78-7.78 2.81-2.81c.8-.78.8-2.07 0-2.86zM5.41 20L4 18.59l7.72-7.72 1.47 1.35L5.41 20z\"/>\n",
              "  </svg>\n",
              "      </button>\n",
              "      \n",
              "  <style>\n",
              "    .colab-df-container {\n",
              "      display:flex;\n",
              "      flex-wrap:wrap;\n",
              "      gap: 12px;\n",
              "    }\n",
              "\n",
              "    .colab-df-convert {\n",
              "      background-color: #E8F0FE;\n",
              "      border: none;\n",
              "      border-radius: 50%;\n",
              "      cursor: pointer;\n",
              "      display: none;\n",
              "      fill: #1967D2;\n",
              "      height: 32px;\n",
              "      padding: 0 0 0 0;\n",
              "      width: 32px;\n",
              "    }\n",
              "\n",
              "    .colab-df-convert:hover {\n",
              "      background-color: #E2EBFA;\n",
              "      box-shadow: 0px 1px 2px rgba(60, 64, 67, 0.3), 0px 1px 3px 1px rgba(60, 64, 67, 0.15);\n",
              "      fill: #174EA6;\n",
              "    }\n",
              "\n",
              "    [theme=dark] .colab-df-convert {\n",
              "      background-color: #3B4455;\n",
              "      fill: #D2E3FC;\n",
              "    }\n",
              "\n",
              "    [theme=dark] .colab-df-convert:hover {\n",
              "      background-color: #434B5C;\n",
              "      box-shadow: 0px 1px 3px 1px rgba(0, 0, 0, 0.15);\n",
              "      filter: drop-shadow(0px 1px 2px rgba(0, 0, 0, 0.3));\n",
              "      fill: #FFFFFF;\n",
              "    }\n",
              "  </style>\n",
              "\n",
              "      <script>\n",
              "        const buttonEl =\n",
              "          document.querySelector('#df-e43b1184-b2c5-4f78-9a6c-5259ce4bb09b button.colab-df-convert');\n",
              "        buttonEl.style.display =\n",
              "          google.colab.kernel.accessAllowed ? 'block' : 'none';\n",
              "\n",
              "        async function convertToInteractive(key) {\n",
              "          const element = document.querySelector('#df-e43b1184-b2c5-4f78-9a6c-5259ce4bb09b');\n",
              "          const dataTable =\n",
              "            await google.colab.kernel.invokeFunction('convertToInteractive',\n",
              "                                                     [key], {});\n",
              "          if (!dataTable) return;\n",
              "\n",
              "          const docLinkHtml = 'Like what you see? Visit the ' +\n",
              "            '<a target=\"_blank\" href=https://colab.research.google.com/notebooks/data_table.ipynb>data table notebook</a>'\n",
              "            + ' to learn more about interactive tables.';\n",
              "          element.innerHTML = '';\n",
              "          dataTable['output_type'] = 'display_data';\n",
              "          await google.colab.output.renderOutput(dataTable, element);\n",
              "          const docLink = document.createElement('div');\n",
              "          docLink.innerHTML = docLinkHtml;\n",
              "          element.appendChild(docLink);\n",
              "        }\n",
              "      </script>\n",
              "    </div>\n",
              "  </div>\n",
              "  "
            ]
          },
          "metadata": {},
          "execution_count": 25
        }
      ]
    },
    {
      "cell_type": "code",
      "source": [
        "from sklearn.model_selection import train_test_split\n",
        "X_train,X_test,y_train,y_test = train_test_split(X,y,train_size=0.7,random_state=0 )"
      ],
      "metadata": {
        "id": "jBqyOhIDxV4V"
      },
      "execution_count": 26,
      "outputs": []
    },
    {
      "cell_type": "code",
      "source": [
        "#lets standardize our data\n",
        "from sklearn.preprocessing import StandardScaler\n",
        "sc = StandardScaler()\n",
        "X_train_sc = sc.fit_transform(X_train)\n",
        "X_test_sc = sc.transform(X_test)"
      ],
      "metadata": {
        "id": "PPwCddr5yX7u"
      },
      "execution_count": 27,
      "outputs": []
    },
    {
      "cell_type": "code",
      "source": [
        "X_train_sc.shape, y_train.shape"
      ],
      "metadata": {
        "colab": {
          "base_uri": "https://localhost:8080/"
        },
        "id": "Ke5XOnspzIPm",
        "outputId": "4a3ff35a-609a-47b6-9261-aca77f3e11c5"
      },
      "execution_count": 28,
      "outputs": [
        {
          "output_type": "execute_result",
          "data": {
            "text/plain": [
              "((644, 11), (644,))"
            ]
          },
          "metadata": {},
          "execution_count": 28
        }
      ]
    },
    {
      "cell_type": "code",
      "source": [
        "from sklearn.linear_model import LogisticRegression\n",
        "lr= LogisticRegression()\n",
        "lr.fit(X_train_sc,y_train)\n",
        "y_pred = lr.predict(X_test_sc)"
      ],
      "metadata": {
        "id": "VrOrdDIGyvTp"
      },
      "execution_count": 29,
      "outputs": []
    },
    {
      "cell_type": "code",
      "source": [
        "from sklearn.metrics import accuracy_score,confusion_matrix,classification_report, precision_score, recall_score"
      ],
      "metadata": {
        "id": "ra73IgpZzfNi"
      },
      "execution_count": 30,
      "outputs": []
    },
    {
      "cell_type": "code",
      "source": [
        "accuracy_score(y_test,y_pred)"
      ],
      "metadata": {
        "colab": {
          "base_uri": "https://localhost:8080/"
        },
        "id": "iWbTFcxNzoT0",
        "outputId": "bb488d5a-96b0-4e05-cdae-80ff3b605cc4"
      },
      "execution_count": 31,
      "outputs": [
        {
          "output_type": "execute_result",
          "data": {
            "text/plain": [
              "0.782608695652174"
            ]
          },
          "metadata": {},
          "execution_count": 31
        }
      ]
    },
    {
      "cell_type": "code",
      "source": [
        "confusion_matrix(y_pred,y_test)"
      ],
      "metadata": {
        "colab": {
          "base_uri": "https://localhost:8080/"
        },
        "id": "jM97Uxf5zs_r",
        "outputId": "90e7fd77-0945-4d39-8f5d-ca3c50c32118"
      },
      "execution_count": 32,
      "outputs": [
        {
          "output_type": "execute_result",
          "data": {
            "text/plain": [
              "array([[ 95,  25],\n",
              "       [ 35, 121]])"
            ]
          },
          "metadata": {},
          "execution_count": 32
        }
      ]
    },
    {
      "cell_type": "markdown",
      "source": [
        "#D) Decision Tree:"
      ],
      "metadata": {
        "id": "lL8UxOHb0Yf9"
      }
    },
    {
      "cell_type": "code",
      "source": [
        "#a. Build a decision tree model\n",
        "#i. Divide the dataset in 70:30 ratio\n",
        "#ii. Build the model on train set and predict the values on test set\n",
        "#iii. Build the confusion matrix and calculate the accuracy"
      ],
      "metadata": {
        "id": "FbPUy-MpzyCr"
      },
      "execution_count": 33,
      "outputs": []
    },
    {
      "cell_type": "code",
      "source": [
        "from sklearn.tree import DecisionTreeClassifier\n",
        "dt = DecisionTreeClassifier()\n",
        "dt.fit(X_train_sc,y_train)\n",
        "y_pred = dt.predict(X_test_sc)"
      ],
      "metadata": {
        "id": "smuLf3JV7U12"
      },
      "execution_count": 34,
      "outputs": []
    },
    {
      "cell_type": "code",
      "source": [
        "accuracy_score(y_test,y_pred)"
      ],
      "metadata": {
        "colab": {
          "base_uri": "https://localhost:8080/"
        },
        "id": "gVCjigGN7uPq",
        "outputId": "9beb239d-1e3e-49e3-9f42-b82eb3225115"
      },
      "execution_count": 35,
      "outputs": [
        {
          "output_type": "execute_result",
          "data": {
            "text/plain": [
              "0.8115942028985508"
            ]
          },
          "metadata": {},
          "execution_count": 35
        }
      ]
    },
    {
      "cell_type": "code",
      "source": [
        "confusion_matrix(y_pred,y_test)"
      ],
      "metadata": {
        "colab": {
          "base_uri": "https://localhost:8080/"
        },
        "id": "a6L2wBIX7vrU",
        "outputId": "cd45be5a-e43f-4ad5-8369-c3832316c136"
      },
      "execution_count": 36,
      "outputs": [
        {
          "output_type": "execute_result",
          "data": {
            "text/plain": [
              "array([[105,  27],\n",
              "       [ 25, 119]])"
            ]
          },
          "metadata": {},
          "execution_count": 36
        }
      ]
    },
    {
      "cell_type": "code",
      "source": [
        "#E) Random Forest:\n",
        "#a. Build a Random Forest model\n",
        "#i. Divide the dataset in 70:30 ratio\n",
        "#ii. Build the model on train set and predict the values on test set\n",
        "#iii. Build the confusion matrix and calculate the accuracy"
      ],
      "metadata": {
        "id": "lvab0NWw2AaF"
      },
      "execution_count": 37,
      "outputs": []
    },
    {
      "cell_type": "code",
      "source": [
        "from sklearn.ensemble import RandomForestClassifier\n",
        "rfc=RandomForestClassifier()\n",
        "rfc.fit(X_train_sc,y_train)\n",
        "y_pred = rfc.predict(X_test_sc)"
      ],
      "metadata": {
        "id": "F8Zsgbu12RDd"
      },
      "execution_count": 38,
      "outputs": []
    },
    {
      "cell_type": "code",
      "source": [
        "accuracy_score(y_test,y_pred)"
      ],
      "metadata": {
        "colab": {
          "base_uri": "https://localhost:8080/"
        },
        "id": "yZ5bQ8EC7Qa3",
        "outputId": "79793d84-4551-42cb-efb2-66dc70e9103a"
      },
      "execution_count": 39,
      "outputs": [
        {
          "output_type": "execute_result",
          "data": {
            "text/plain": [
              "0.8442028985507246"
            ]
          },
          "metadata": {},
          "execution_count": 39
        }
      ]
    },
    {
      "cell_type": "code",
      "source": [
        "confusion_matrix(y_pred,y_test)"
      ],
      "metadata": {
        "colab": {
          "base_uri": "https://localhost:8080/"
        },
        "id": "Gl2R5Khq7SNs",
        "outputId": "0231871d-1eda-4fc8-ee80-e1f27bb3a71c"
      },
      "execution_count": 40,
      "outputs": [
        {
          "output_type": "execute_result",
          "data": {
            "text/plain": [
              "array([[103,  16],\n",
              "       [ 27, 130]])"
            ]
          },
          "metadata": {},
          "execution_count": 40
        }
      ]
    },
    {
      "cell_type": "markdown",
      "source": [
        "## Evalution"
      ],
      "metadata": {
        "id": "1LgxB9Sh_zKc"
      }
    },
    {
      "cell_type": "code",
      "source": [
        "acc = []\n",
        "pre = []\n",
        "re = []\n",
        "models = [rfc,dt,lr]\n",
        "models_name = ['RandomForestClassifier','DecisionTreeClassifier','LogisticRegression']\n",
        "\n",
        "for i in models:\n",
        "  i.fit(X_train_sc,y_train)\n",
        "  y_pred= i.predict(X_test_sc)\n",
        "  accuracy = accuracy_score(y_test,y_pred)\n",
        "  precision = precision_score(y_test,y_pred)\n",
        "  recall = recall_score(y_test,y_pred)\n",
        "\n",
        "  acc.append(accuracy)\n",
        "  pre.append(precision)\n",
        "  re.append(recall)"
      ],
      "metadata": {
        "id": "P6GQpzEW74s3"
      },
      "execution_count": 41,
      "outputs": []
    },
    {
      "cell_type": "code",
      "source": [
        "m1 = pd.DataFrame()\n",
        "m1['Models']=models_name\n",
        "m1['Accuracy']= acc\n",
        "m1['Precision']= pre\n",
        "m1['Recall']= re"
      ],
      "metadata": {
        "id": "gU6s5ggYAJDH"
      },
      "execution_count": 42,
      "outputs": []
    },
    {
      "cell_type": "code",
      "source": [
        "m1"
      ],
      "metadata": {
        "colab": {
          "base_uri": "https://localhost:8080/",
          "height": 143
        },
        "id": "zUpzJdd7Awb-",
        "outputId": "bd6a429d-5abb-4033-b959-40e307f06098"
      },
      "execution_count": 43,
      "outputs": [
        {
          "output_type": "execute_result",
          "data": {
            "text/plain": [
              "                   Models  Accuracy  Precision    Recall\n",
              "0  RandomForestClassifier  0.855072   0.844156  0.890411\n",
              "1  DecisionTreeClassifier  0.826087   0.840278  0.828767\n",
              "2      LogisticRegression  0.782609   0.775641  0.828767"
            ],
            "text/html": [
              "\n",
              "  <div id=\"df-a1c2d788-5a0c-4da5-825a-72254c07988c\">\n",
              "    <div class=\"colab-df-container\">\n",
              "      <div>\n",
              "<style scoped>\n",
              "    .dataframe tbody tr th:only-of-type {\n",
              "        vertical-align: middle;\n",
              "    }\n",
              "\n",
              "    .dataframe tbody tr th {\n",
              "        vertical-align: top;\n",
              "    }\n",
              "\n",
              "    .dataframe thead th {\n",
              "        text-align: right;\n",
              "    }\n",
              "</style>\n",
              "<table border=\"1\" class=\"dataframe\">\n",
              "  <thead>\n",
              "    <tr style=\"text-align: right;\">\n",
              "      <th></th>\n",
              "      <th>Models</th>\n",
              "      <th>Accuracy</th>\n",
              "      <th>Precision</th>\n",
              "      <th>Recall</th>\n",
              "    </tr>\n",
              "  </thead>\n",
              "  <tbody>\n",
              "    <tr>\n",
              "      <th>0</th>\n",
              "      <td>RandomForestClassifier</td>\n",
              "      <td>0.855072</td>\n",
              "      <td>0.844156</td>\n",
              "      <td>0.890411</td>\n",
              "    </tr>\n",
              "    <tr>\n",
              "      <th>1</th>\n",
              "      <td>DecisionTreeClassifier</td>\n",
              "      <td>0.826087</td>\n",
              "      <td>0.840278</td>\n",
              "      <td>0.828767</td>\n",
              "    </tr>\n",
              "    <tr>\n",
              "      <th>2</th>\n",
              "      <td>LogisticRegression</td>\n",
              "      <td>0.782609</td>\n",
              "      <td>0.775641</td>\n",
              "      <td>0.828767</td>\n",
              "    </tr>\n",
              "  </tbody>\n",
              "</table>\n",
              "</div>\n",
              "      <button class=\"colab-df-convert\" onclick=\"convertToInteractive('df-a1c2d788-5a0c-4da5-825a-72254c07988c')\"\n",
              "              title=\"Convert this dataframe to an interactive table.\"\n",
              "              style=\"display:none;\">\n",
              "        \n",
              "  <svg xmlns=\"http://www.w3.org/2000/svg\" height=\"24px\"viewBox=\"0 0 24 24\"\n",
              "       width=\"24px\">\n",
              "    <path d=\"M0 0h24v24H0V0z\" fill=\"none\"/>\n",
              "    <path d=\"M18.56 5.44l.94 2.06.94-2.06 2.06-.94-2.06-.94-.94-2.06-.94 2.06-2.06.94zm-11 1L8.5 8.5l.94-2.06 2.06-.94-2.06-.94L8.5 2.5l-.94 2.06-2.06.94zm10 10l.94 2.06.94-2.06 2.06-.94-2.06-.94-.94-2.06-.94 2.06-2.06.94z\"/><path d=\"M17.41 7.96l-1.37-1.37c-.4-.4-.92-.59-1.43-.59-.52 0-1.04.2-1.43.59L10.3 9.45l-7.72 7.72c-.78.78-.78 2.05 0 2.83L4 21.41c.39.39.9.59 1.41.59.51 0 1.02-.2 1.41-.59l7.78-7.78 2.81-2.81c.8-.78.8-2.07 0-2.86zM5.41 20L4 18.59l7.72-7.72 1.47 1.35L5.41 20z\"/>\n",
              "  </svg>\n",
              "      </button>\n",
              "      \n",
              "  <style>\n",
              "    .colab-df-container {\n",
              "      display:flex;\n",
              "      flex-wrap:wrap;\n",
              "      gap: 12px;\n",
              "    }\n",
              "\n",
              "    .colab-df-convert {\n",
              "      background-color: #E8F0FE;\n",
              "      border: none;\n",
              "      border-radius: 50%;\n",
              "      cursor: pointer;\n",
              "      display: none;\n",
              "      fill: #1967D2;\n",
              "      height: 32px;\n",
              "      padding: 0 0 0 0;\n",
              "      width: 32px;\n",
              "    }\n",
              "\n",
              "    .colab-df-convert:hover {\n",
              "      background-color: #E2EBFA;\n",
              "      box-shadow: 0px 1px 2px rgba(60, 64, 67, 0.3), 0px 1px 3px 1px rgba(60, 64, 67, 0.15);\n",
              "      fill: #174EA6;\n",
              "    }\n",
              "\n",
              "    [theme=dark] .colab-df-convert {\n",
              "      background-color: #3B4455;\n",
              "      fill: #D2E3FC;\n",
              "    }\n",
              "\n",
              "    [theme=dark] .colab-df-convert:hover {\n",
              "      background-color: #434B5C;\n",
              "      box-shadow: 0px 1px 3px 1px rgba(0, 0, 0, 0.15);\n",
              "      filter: drop-shadow(0px 1px 2px rgba(0, 0, 0, 0.3));\n",
              "      fill: #FFFFFF;\n",
              "    }\n",
              "  </style>\n",
              "\n",
              "      <script>\n",
              "        const buttonEl =\n",
              "          document.querySelector('#df-a1c2d788-5a0c-4da5-825a-72254c07988c button.colab-df-convert');\n",
              "        buttonEl.style.display =\n",
              "          google.colab.kernel.accessAllowed ? 'block' : 'none';\n",
              "\n",
              "        async function convertToInteractive(key) {\n",
              "          const element = document.querySelector('#df-a1c2d788-5a0c-4da5-825a-72254c07988c');\n",
              "          const dataTable =\n",
              "            await google.colab.kernel.invokeFunction('convertToInteractive',\n",
              "                                                     [key], {});\n",
              "          if (!dataTable) return;\n",
              "\n",
              "          const docLinkHtml = 'Like what you see? Visit the ' +\n",
              "            '<a target=\"_blank\" href=https://colab.research.google.com/notebooks/data_table.ipynb>data table notebook</a>'\n",
              "            + ' to learn more about interactive tables.';\n",
              "          element.innerHTML = '';\n",
              "          dataTable['output_type'] = 'display_data';\n",
              "          await google.colab.output.renderOutput(dataTable, element);\n",
              "          const docLink = document.createElement('div');\n",
              "          docLink.innerHTML = docLinkHtml;\n",
              "          element.appendChild(docLink);\n",
              "        }\n",
              "      </script>\n",
              "    </div>\n",
              "  </div>\n",
              "  "
            ]
          },
          "metadata": {},
          "execution_count": 43
        }
      ]
    },
    {
      "cell_type": "markdown",
      "source": [
        "*Random Forest giving the best accuracy 85%*"
      ],
      "metadata": {
        "id": "fcmfEHOwAyzm"
      }
    },
    {
      "cell_type": "code",
      "source": [],
      "metadata": {
        "id": "VCCAoM82Axgy"
      },
      "execution_count": 43,
      "outputs": []
    }
  ]
}